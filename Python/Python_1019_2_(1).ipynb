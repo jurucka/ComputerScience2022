{
  "nbformat": 4,
  "nbformat_minor": 0,
  "metadata": {
    "colab": {
      "provenance": []
    },
    "kernelspec": {
      "name": "python3",
      "display_name": "Python 3"
    },
    "language_info": {
      "name": "python"
    }
  },
  "cells": [
    {
      "cell_type": "markdown",
      "source": [
        "1019 4110E212\n",
        "\n",
        "Python For Loops\n",
        "\n",
        "Exercise 1 : Loop through the items in the fruits list."
      ],
      "metadata": {
        "id": "Bior-AkM0n5x"
      }
    },
    {
      "cell_type": "code",
      "source": [
        "classmates = [\"jerick\", \"Yulah\", \"Juricka\"]\n",
        "for x in classmates:\n",
        "  print(x)"
      ],
      "metadata": {
        "colab": {
          "base_uri": "https://localhost:8080/"
        },
        "id": "UQMvJIXD0tj9",
        "outputId": "fb0b7ad3-f910-4c8c-dfa9-bc1233a78072"
      },
      "execution_count": 1,
      "outputs": [
        {
          "output_type": "stream",
          "name": "stdout",
          "text": [
            "jerick\n",
            "Yulah\n",
            "Juricka\n"
          ]
        }
      ]
    },
    {
      "cell_type": "markdown",
      "source": [
        "Exercise 2 : In the loop, when the item value is \"Yulah\", jump directly to the next item."
      ],
      "metadata": {
        "id": "1zzdNn5t072Y"
      }
    },
    {
      "cell_type": "code",
      "source": [
        "classmates = [\"jerick\", \"Yulah\", \"Juricka\"]\n",
        "for x in classmates:\n",
        "  if x == \"Yulah\":\n",
        "    continue\n",
        "  print(x)"
      ],
      "metadata": {
        "colab": {
          "base_uri": "https://localhost:8080/"
        },
        "id": "3VCWGN2w1N_T",
        "outputId": "a5e718e0-872f-4d7d-9045-74739694a329"
      },
      "execution_count": 4,
      "outputs": [
        {
          "output_type": "stream",
          "name": "stdout",
          "text": [
            "jerick\n",
            "Juricka\n"
          ]
        }
      ]
    },
    {
      "cell_type": "markdown",
      "source": [
        "Exercise 3 : Use the range function to loop through a code set 9 times."
      ],
      "metadata": {
        "id": "9aw7lFRU1YJg"
      }
    },
    {
      "cell_type": "code",
      "source": [
        "for x in range(9):\n",
        "  print(x)"
      ],
      "metadata": {
        "colab": {
          "base_uri": "https://localhost:8080/"
        },
        "id": "HKkDZU-h1aaf",
        "outputId": "8ce408c1-d5ea-4ed1-83b8-0bd1e90c1e1c"
      },
      "execution_count": 5,
      "outputs": [
        {
          "output_type": "stream",
          "name": "stdout",
          "text": [
            "0\n",
            "1\n",
            "2\n",
            "3\n",
            "4\n",
            "5\n",
            "6\n",
            "7\n",
            "8\n"
          ]
        }
      ]
    },
    {
      "cell_type": "markdown",
      "source": [
        "Exercise 4 : Exit the loop when x is \"Yulah\"."
      ],
      "metadata": {
        "id": "nlG1g_fi1fHG"
      }
    },
    {
      "cell_type": "code",
      "source": [
        "classmates = [\"jerick\", \"Yulah\", \"Juricka\"]\n",
        "for x in classmates:\n",
        "  print(x) \n",
        "  if x == \"Joana\":\n",
        "    break\n",
        "    print(X)\n"
      ],
      "metadata": {
        "colab": {
          "base_uri": "https://localhost:8080/"
        },
        "id": "ZeEPvIpL1kqh",
        "outputId": "a27a7391-0fe0-4320-ca5e-14ef8bd51ae6"
      },
      "execution_count": 6,
      "outputs": [
        {
          "output_type": "stream",
          "name": "stdout",
          "text": [
            "jerick\n",
            "Yulah\n",
            "Juricka\n"
          ]
        }
      ]
    }
  ]
}