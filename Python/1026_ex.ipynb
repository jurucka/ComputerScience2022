{
  "nbformat": 4,
  "nbformat_minor": 0,
  "metadata": {
    "colab": {
      "provenance": []
    },
    "kernelspec": {
      "name": "python3",
      "display_name": "Python 3"
    },
    "language_info": {
      "name": "python"
    }
  },
  "cells": [
    {
      "cell_type": "code",
      "execution_count": 1,
      "metadata": {
        "colab": {
          "base_uri": "https://localhost:8080/"
        },
        "id": "oIPy4BEZ9XM8",
        "outputId": "7aee64a6-3ac8-452e-e119-e68d1f818cc2"
      },
      "outputs": [
        {
          "output_type": "stream",
          "name": "stdout",
          "text": [
            "Sum from 11 to 20 is 135\n",
            "Sum from 40 to 67 is 1431\n",
            "Sum from 75 to 89 is 1141\n"
          ]
        }
      ],
      "source": [
        "def sum(i1, i2):\n",
        "    result = 0\n",
        "    for i in range(i1, i2):\n",
        "        result += i\n",
        "    return result\n",
        "\n",
        "def main():\n",
        "    print(\"Sum from 11 to 20 is\", sum(11, 20)) \n",
        "    print(\"Sum from 40 to 67 is\", sum(40, 67))\n",
        "    print(\"Sum from 75 to 89 is\", sum(75, 89))\n",
        "\n",
        "main() # Call the main function"
      ]
    }
  ]
}