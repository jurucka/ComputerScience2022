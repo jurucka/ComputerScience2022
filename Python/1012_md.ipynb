{
  "nbformat": 4,
  "nbformat_minor": 0,
  "metadata": {
    "colab": {
      "provenance": []
    },
    "kernelspec": {
      "name": "python3",
      "display_name": "Python 3"
    },
    "language_info": {
      "name": "python"
    }
  },
  "cells": [
    {
      "cell_type": "markdown",
      "source": [
        "1012 Learning Python\n",
        "\n",
        "# This is formatted as code\n",
        "Python Tutorial - link text\n",
        "\n",
        "Python Tutorial - Tutorialspointlink text\n",
        "\n",
        "HappyPythonDay\n",
        "\n",
        "1012:Python Data Type:link text\n",
        "\n",
        "Basic List Operations\n",
        "Python - Access List Itemslink text\n",
        "\n",
        "Python Lists\n",
        "Acess List Items\n",
        "List items are indexed and you can access them by referring to the index number:\n",
        "\n",
        "Note: The first item has index 0."
      ],
      "metadata": {
        "id": "kmk1WkPj-C-g"
      }
    },
    {
      "cell_type": "code",
      "source": [
        "* Print the second item of the list:\n",
        "\n",
        "thislist = [\"square\", \"circle\", \"triangle\"]\n",
        "print(thislist[1])"
      ],
      "metadata": {
        "id": "SzQuTMI-_-lu"
      },
      "execution_count": null,
      "outputs": []
    },
    {
      "cell_type": "markdown",
      "source": [
        "Negative Indexing\n",
        "\n",
        "Negative indexing means start from the end\n",
        "\n",
        "-1 refers to the last item, -2 refers to the second last item etc."
      ],
      "metadata": {
        "id": "UdAR4Cc2AFfu"
      }
    },
    {
      "cell_type": "code",
      "source": [
        "* Print the last item of the list:\n",
        "thislist = [\"square\", \"circle\", \"triangle\"]\n",
        "print(thislist[-1])"
      ],
      "metadata": {
        "id": "dz5KRcw4AIUU"
      },
      "execution_count": null,
      "outputs": []
    },
    {
      "cell_type": "markdown",
      "source": [
        "Range of Indexes\n",
        "-You can specify a range of indexes by specifying where to start and where to end the range.\n",
        "\n",
        "-When specifying a range, the return value will be a new list with the specified items.\n",
        "\n",
        "-Note: The search will start at index 2 (included) and end at index 5 (not included).\n",
        "\n",
        "-Remember that the first item has index 0."
      ],
      "metadata": {
        "id": "hb-phG37AM49"
      }
    },
    {
      "cell_type": "code",
      "source": [
        "* Return the third, fourth, and fifth item:\n",
        "\n",
        "thislist = [\"square\", \"circle\", \"triangle\", \"star\", \"diamond\", \"rectangle\", \"octogaon\"]\n",
        "print(thislist[2:5])"
      ],
      "metadata": {
        "id": "FEfteF_PAQOG"
      },
      "execution_count": null,
      "outputs": []
    },
    {
      "cell_type": "markdown",
      "source": [
        "By leaving out the start value, the range will start at the first item:"
      ],
      "metadata": {
        "id": "lkRWPrIWAT98"
      }
    },
    {
      "cell_type": "code",
      "source": [
        "This example returns the items from the beginning to, but NOT including, \"diamond\n",
        "\n",
        "\n",
        "thislist = [\"square\", \"circle\", \"triangle\", \"star\", \"diamond\", \"rectangle\", \"octogaon\"]\n",
        "print(thislist[:4])"
      ],
      "metadata": {
        "id": "uDTsBRUwAfug"
      },
      "execution_count": null,
      "outputs": []
    },
    {
      "cell_type": "markdown",
      "source": [
        "By leaving out the end value, the range will go on to the end of the list:"
      ],
      "metadata": {
        "id": "LORalg4EAk5Y"
      }
    },
    {
      "cell_type": "code",
      "source": [
        "* This example returns the items from \"triangle\" to the end:\n",
        "\n",
        "thislist = [\"square\", \"circle\", \"triangle\", \"star\", \"diamond\", \"rectangle\", \"octogaon\"]\n",
        "print(thislist[2:])"
      ],
      "metadata": {
        "id": "-e6TR_-uApUS"
      },
      "execution_count": null,
      "outputs": []
    },
    {
      "cell_type": "markdown",
      "source": [
        "Range of Negative Indexes\n",
        "\n",
        "Specify negative indexes if you want to start the search from the end of the list:"
      ],
      "metadata": {
        "id": "hFCg8b6yAtQG"
      }
    },
    {
      "cell_type": "code",
      "source": [
        "* This example returns the items from \"orange\" (-4) to, but NOT including \"violet\" (-1)\n",
        "\n",
        "\n",
        "thislist = [\"square\", \"circle\", \"triangle\", \"star\", \"diamond\", \"rectangle\", \"octogaon\"]\n",
        "print(thislist[-4:-1])"
      ],
      "metadata": {
        "id": "GxZBuY6BAwen"
      },
      "execution_count": null,
      "outputs": []
    },
    {
      "cell_type": "markdown",
      "source": [
        "Check if Item Exists\n",
        "\n",
        "To determine if a specified item is present in a list use the in keyword:"
      ],
      "metadata": {
        "id": "6OzybQ8sAtWw"
      }
    },
    {
      "cell_type": "code",
      "source": [
        "* Check if \"**square**\" is present in the list:\n",
        "\n",
        "thislist = [\"square\", \"circle\", \"triangle\"]\n",
        "if \"square\" in thislist:\n",
        "  print(\"Yes, 'square' is in the fruits list\")"
      ],
      "metadata": {
        "id": "3QgYLEtYA-nY"
      },
      "execution_count": null,
      "outputs": []
    },
    {
      "cell_type": "markdown",
      "source": [
        "Python-Change List itemslink text\n",
        "\n",
        "Change Item Value\n",
        "\n",
        "To change the value of a specific item, refer to the index number:"
      ],
      "metadata": {
        "id": "UlHUkeWoBFuy"
      }
    },
    {
      "cell_type": "code",
      "source": [
        "* Change the second item:\n",
        "\n",
        "thislist = [\"square\", \"circle\", \"triangle\"]\n",
        "thislist[1] = \"rectangle\"\n",
        "\n",
        "print(thislist)"
      ],
      "metadata": {
        "id": "2H0FYVjzBMtZ"
      },
      "execution_count": null,
      "outputs": []
    },
    {
      "cell_type": "markdown",
      "source": [
        "Change a Range of Item Values\n",
        "\n",
        "To change the value of items within a specific range, define a list with the new values, and refer to the range of index numbers where you want to insert the new values:"
      ],
      "metadata": {
        "id": "wlw5WBNwBQ07"
      }
    },
    {
      "cell_type": "code",
      "source": [
        "* Change the values \"orange\" and \"yellow\" with the values \"indigo\" and \"violet\":\n",
        "\n",
        "thislist = [\"square\", \"circle\", \"triangle\", \"star\", \"diamond\", \"rectangle\", \"octogaon\"]\n",
        "\n",
        "thislist[1:3] = [\"rectable\", \"octagon\"]\n",
        "\n",
        "print(thislist)"
      ],
      "metadata": {
        "id": "bl8GQca-BUIP"
      },
      "execution_count": null,
      "outputs": []
    },
    {
      "cell_type": "markdown",
      "source": [
        "-If you insert more items than you replace, the new items will be inserted where you specified, and the remaining items will move accordingly:"
      ],
      "metadata": {
        "id": "ANsNxGsTBXsQ"
      }
    },
    {
      "cell_type": "code",
      "source": [
        "thislist = [\"square\", \"circle\", \"triangle\"]\n",
        "\n",
        "thislist[1:2] = [\"rectable\", \"octagon\"]\n",
        "\n",
        "print(thislist)"
      ],
      "metadata": {
        "id": "EuVCulu3Ba9C"
      },
      "execution_count": null,
      "outputs": []
    },
    {
      "cell_type": "markdown",
      "source": [
        "Note: The length of the list will change when the number of items inserted does not match the number of items replaced.\n",
        "-if you insert less items than you replace, the new items will be inserted where you specified, and the remaining items will move accordingly:"
      ],
      "metadata": {
        "id": "s1FKXA9jBepZ"
      }
    },
    {
      "cell_type": "code",
      "source": [
        "* Change the second and third value by replacing it with one value:\n",
        "\n",
        "\n",
        "thislist = [\"square\", \"circle\", \"triangle\"]\n",
        "thislist[1:3] = [\"octagon\"]\n",
        "\n",
        "print(thislist)"
      ],
      "metadata": {
        "id": "NDKh8Ir0BhiE"
      },
      "execution_count": null,
      "outputs": []
    },
    {
      "cell_type": "markdown",
      "source": [
        "nsert Items\n",
        "To insert a new list item, without replacing any of the existing values, we can use the insert() method. -\n",
        "The insert() method inserts an item at the specified index:\n",
        "\n",
        "Insert \"watermelon\" as the third item:\n",
        "thislist = [\"square\", \"circle\", \"triangle\"]\n",
        "\n",
        "thislist.insert(2, \"rectangle\")\n",
        "\n",
        "print(thislist)\n",
        "\n",
        "Note: As a result of the example above, the list will now contain 4 items.\n",
        "Python - Add List Itemslink text\n",
        "\n",
        "Append Items\n",
        "To add an item to the end of the list, use the append() method:\n",
        "Using the append() method to append an item:"
      ],
      "metadata": {
        "id": "WwNLrvPvBkxw"
      }
    },
    {
      "cell_type": "code",
      "source": [
        "thislist = [\"square\", \"circle\", \"triangle\"\"]\n",
        "\n",
        "thislist.append(\"star\")\n",
        "\n",
        "print(thislist)"
      ],
      "metadata": {
        "id": "uFBKi0OWBphW"
      },
      "execution_count": null,
      "outputs": []
    },
    {
      "cell_type": "markdown",
      "source": [
        "Insert Items\n",
        "-To insert a list item at a specified index, use the insert() method.\n",
        "\n",
        "-The insert() method inserts an item at the specified index: -Note: As a result of the examples above, the lists will now contain 4 items.\n",
        "\n",
        "Insert an item as the second position:"
      ],
      "metadata": {
        "id": "7G5fdFpuBv1A"
      }
    },
    {
      "cell_type": "code",
      "source": [
        "thislist = [\"square\", \"circle\", \"triangle\"]\n",
        "thislist.insert(1, \"star\")\n",
        "\n",
        "print(thislist)"
      ],
      "metadata": {
        "colab": {
          "base_uri": "https://localhost:8080/"
        },
        "id": "0yLHNpWlB2-_",
        "outputId": "20bd7662-61c0-408e-c81a-084073287bff"
      },
      "execution_count": 1,
      "outputs": [
        {
          "output_type": "stream",
          "name": "stdout",
          "text": [
            "['square', 'star', 'circle', 'triangle']\n"
          ]
        }
      ]
    },
    {
      "cell_type": "markdown",
      "source": [
        "Extend List\n",
        "\n",
        "To append elements from another list to the current list, use the extend() method.\n",
        "\n",
        "Add the elements of colors to thislist:"
      ],
      "metadata": {
        "id": "ee7iQps-CII2"
      }
    },
    {
      "cell_type": "code",
      "source": [
        "thislist = [\"square\", \"circle\", \"triangle\"\"]\n",
        "colors = [\"star\", \"diamond\", \"rectangle\"]\n",
        "thislist.extend(shapes)"
      ],
      "metadata": {
        "id": "5sm6_TsnCLvB"
      },
      "execution_count": null,
      "outputs": []
    },
    {
      "cell_type": "markdown",
      "source": [
        "Python - Remove List Itemslink text\n",
        "\n",
        "Remove Specified Item"
      ],
      "metadata": {
        "id": "_37avKyQCORx"
      }
    },
    {
      "cell_type": "code",
      "source": [
        "* Remove \"circle\":\n",
        "thislist = [\"square\", \"circle\", \"triangle\"]\n",
        "thislist.remove(\"circle\")\n",
        "print(thislist)"
      ],
      "metadata": {
        "id": "khjMR79OCRpZ"
      },
      "execution_count": null,
      "outputs": []
    },
    {
      "cell_type": "markdown",
      "source": [
        "-Remove Specified Index\n",
        "\n",
        "-The pop() method removes the specified index."
      ],
      "metadata": {
        "id": "SIIvCMCTCVBc"
      }
    },
    {
      "cell_type": "code",
      "source": [
        "thislist = [\"square\", \"circle\", \"triangle\"]\n",
        "thislist.pop(1)\n",
        "print(thislist)"
      ],
      "metadata": {
        "id": "q-Pqg8BQCYM0"
      },
      "execution_count": null,
      "outputs": []
    },
    {
      "cell_type": "markdown",
      "source": [
        "If you do not specify the index, the pop() method removes the last item."
      ],
      "metadata": {
        "id": "lhQFX0zCCd5F"
      }
    },
    {
      "cell_type": "code",
      "source": [
        "* Remove the last item:\n",
        "\n",
        "thislist = [\"square\", \"circle\", \"triangle\"]\n",
        "thislist.pop()\n",
        "print(thislist)"
      ],
      "metadata": {
        "id": "OoGzr2NuCe7f"
      },
      "execution_count": null,
      "outputs": []
    },
    {
      "cell_type": "markdown",
      "source": [
        "The del keyword also removes the specified index:"
      ],
      "metadata": {
        "id": "7w0tww97CjOd"
      }
    },
    {
      "cell_type": "code",
      "source": [
        "* Remove the first item:\n",
        "\n",
        "\n",
        "thislist = [\"square\", \"circle\", \"triangle]\n",
        "del thislist[0]\n",
        "print(thislist)"
      ],
      "metadata": {
        "id": "_yT3LTNACnHG"
      },
      "execution_count": null,
      "outputs": []
    },
    {
      "cell_type": "markdown",
      "source": [
        "The del keyword can also delete the list completely."
      ],
      "metadata": {
        "id": "qSrn_CJaCpzM"
      }
    },
    {
      "cell_type": "code",
      "source": [
        "* Delete the entire list:\n",
        "\n",
        "\n",
        "thislist = [\"square\", \"circle\", \"triangle]\n",
        "del thislist"
      ],
      "metadata": {
        "id": "KtlMzp5eCsRC"
      },
      "execution_count": null,
      "outputs": []
    },
    {
      "cell_type": "markdown",
      "source": [
        "-Clear the List\n",
        "\n",
        "The clear() method empties the list.\n",
        "The list still remains, but it has no content."
      ],
      "metadata": {
        "id": "rb4ISkijCvHE"
      }
    },
    {
      "cell_type": "code",
      "source": [
        "* Clear the list content:\n",
        "\n",
        "\n",
        "thislist = [\"square\", \"circle\", \"triangle\"]\n",
        "thislist.clear()\n",
        "print(thislist)"
      ],
      "metadata": {
        "id": "t-Uw9AqXC5Q4"
      },
      "execution_count": null,
      "outputs": []
    },
    {
      "cell_type": "markdown",
      "source": [
        "Python - Sort Listslink text\n",
        "\n",
        "Advanced Operations in Python Lists\n",
        "\n",
        "Sort List Alphanumerically\n",
        "\n",
        "List objects have a sort() method that will sort the list alphanumerically, ascending, by default:"
      ],
      "metadata": {
        "id": "V8NvCsY6DIfm"
      }
    },
    {
      "cell_type": "code",
      "source": [
        "* Sort the list alphabetically:\n",
        "\n",
        "\n",
        "thislist = [\"square\", \"circle\", \"triangle, \"star\", \"diamond\"]\n",
        "thislist.sort()\n",
        "print(thislist)\n",
        "* Sort the list numerically:\n",
        "\n",
        "\n",
        "thislist = [109, 59, 69, 89, 29]\n",
        "thislist.sort()\n",
        "print(thislist)\n",
        "Sort Descending\n",
        "To sort descending, use the keyword argument reverse = True:\n",
        "* Sort the list descending:\n",
        "\n",
        "\n",
        "thislist = [\"square\", \"circle\", \"triangle, \"star\", \"diamond\"]\n",
        "thislist.sort(reverse = True)\n",
        "print(thislist)\n",
        "* Sort the list descending:\n",
        "\n",
        "\n",
        "thislist = [109, 59, 69, 89, 29]\n",
        "thislist.sort(reverse = True)\n",
        "print(thislist)"
      ],
      "metadata": {
        "id": "U5Sh58O6DL3k"
      },
      "execution_count": null,
      "outputs": []
    },
    {
      "cell_type": "markdown",
      "source": [
        "Customize Sort Function\n",
        "\n",
        "You can also customize your own function by using the keyword argument key = function.\n",
        "\n",
        "The function will return a number that will be used to sort the list (the lowest number first):"
      ],
      "metadata": {
        "id": "2PvatWhHDP0Z"
      }
    },
    {
      "cell_type": "code",
      "source": [
        "* Sort the list based on how close the number is to 50:\n",
        "\n",
        "\n",
        "def myfunc(n):\n",
        "  return abs(n - 50)\n",
        "\n",
        "thislist = [109, 59, 69, 89, 29]\n",
        "\n",
        "thislist.sort(key = myfunc)\n",
        "\n",
        "print(thislist)"
      ],
      "metadata": {
        "id": "gaJ9SUOSDUlJ"
      },
      "execution_count": null,
      "outputs": []
    },
    {
      "cell_type": "markdown",
      "source": [
        "Case Insensitive Sort\n",
        "\n",
        "By default the sort() method is case sensitive, resulting in all capital letters being sorted before lower case letters:"
      ],
      "metadata": {
        "id": "tg9o2Pl2DYC4"
      }
    },
    {
      "cell_type": "code",
      "source": [
        "thislist = [\"square\", \"circle\", \"triangle, \"star\"]\n",
        "thislist.sort()\n",
        "print(thislist)"
      ],
      "metadata": {
        "id": "g5x-FygMDbCD"
      },
      "execution_count": null,
      "outputs": []
    },
    {
      "cell_type": "markdown",
      "source": [
        "Luckily we can use built-in functions as key functions when sorting a list.\n",
        "\n",
        "So if you want a case-insensitive sort function, use str.lower as a key function:"
      ],
      "metadata": {
        "id": "eH7VkJk-DgYQ"
      }
    },
    {
      "cell_type": "code",
      "source": [
        "* Perform a case-insensitive sort of the list:\n",
        "\n",
        "\n",
        "thislist = [\"square\", \"circle\", \"triangle, \"star\"]\n",
        "thislist.sort(key = str.lower)\n",
        "print(thislist)"
      ],
      "metadata": {
        "id": "3x5z0acZDjXU"
      },
      "execution_count": null,
      "outputs": []
    },
    {
      "cell_type": "markdown",
      "source": [
        "Reverse Order\n",
        "\n",
        "What if you want to reverse the order of a list, regardless of the alphabet?\n",
        "\n",
        "The reverse() method reverses the current sorting order of the elements."
      ],
      "metadata": {
        "id": "Np_Dhq6FDl5j"
      }
    },
    {
      "cell_type": "code",
      "source": [
        "* Reverse the order of the list items:\n",
        "\n",
        "\n",
        "thislist = [square\", \"circle\", \"triangle, \"star\"]\n",
        "thislist.reverse()\n",
        "print(thislist)"
      ],
      "metadata": {
        "id": "iTnKzm8gDoJ-"
      },
      "execution_count": null,
      "outputs": []
    },
    {
      "cell_type": "markdown",
      "source": [
        "Python - Copy Lists\n",
        "\n",
        "Copy a List\n",
        "\n",
        "You cannot copy a list simply by typing list2 = list1, because: list2 will only be a reference to list1, and changes made in list1 will automatically also be made in list2.\n",
        "\n",
        "There are ways to make a copy, one way is to use the built-in List method copy()."
      ],
      "metadata": {
        "id": "FMIpIj2EDqfA"
      }
    },
    {
      "cell_type": "code",
      "source": [
        "* Make a copy of a list with the copy() method:\n",
        "\n",
        "\n",
        "thislist = [\"square\", \"circle\", \"triangle\"]\n",
        "mylist = thislist.copy()\n",
        "print(mylist)"
      ],
      "metadata": {
        "id": "_Dk95XHIDuEy"
      },
      "execution_count": null,
      "outputs": []
    },
    {
      "cell_type": "markdown",
      "source": [
        "Another way to make a copy is to use the built-in method list()."
      ],
      "metadata": {
        "id": "1mHdxg-2DxNC"
      }
    },
    {
      "cell_type": "code",
      "source": [
        "* Make a copy of a list with the list() method:\n",
        "\n",
        "\n",
        "thislist = [\"square\", \"circle\", \"triangle\"]\n",
        "mylist = list(thislist)\n",
        "print(mylist)"
      ],
      "metadata": {
        "id": "sGdsjDBTD0RI"
      },
      "execution_count": null,
      "outputs": []
    },
    {
      "cell_type": "markdown",
      "source": [
        "Another way to make a copy is to use the built-in method list().\n",
        "\n",
        "Python - Join Lists link text\n",
        "\n",
        "Join Two Lists\n",
        "\n",
        "There are several ways to join, or concatenate, two or more lists in Python.\n",
        "\n",
        "One of the easiest ways are by using the + operator."
      ],
      "metadata": {
        "id": "RkRAG-jZD5sr"
      }
    },
    {
      "cell_type": "code",
      "source": [
        "* Join two list:\n",
        "\n",
        "\n",
        "list1 = [\"q\", \"w\", \"e\"]\n",
        "list2 = [3, 6, 9]\n",
        "\n",
        "list3 = list1 + list2\n",
        "print(list3)\n"
      ],
      "metadata": {
        "id": "8iZmXusnD9ju"
      },
      "execution_count": null,
      "outputs": []
    },
    {
      "cell_type": "markdown",
      "source": [
        "Another way to join two lists is by appending all the items from list2 into list1, one by one:"
      ],
      "metadata": {
        "id": "BgOVi4nXECh7"
      }
    },
    {
      "cell_type": "code",
      "source": [
        "* Append list2 into list1:\n",
        "\n",
        "\n",
        "list1 = [\"q\", \"w\", \"e\"]\n",
        "list2 = [3, 6, 9]\n",
        "\n",
        "for x in list2:\n",
        "  list1.append(x)\n",
        "\n",
        "print(list1)"
      ],
      "metadata": {
        "id": "6FkFde0rEFme"
      },
      "execution_count": null,
      "outputs": []
    },
    {
      "cell_type": "markdown",
      "source": [
        "Or you can use the extend() method, which purpose is to add elements from one list to another list:\n",
        "\n"
      ],
      "metadata": {
        "id": "7Nw8bpl9EIaS"
      }
    },
    {
      "cell_type": "code",
      "source": [
        "* Use the extend() method to add list2 at the end of list1:\n",
        "\n",
        "\n",
        "list1 = [\"q\", \"w\", \"e\"]\n",
        "list2 = [1, 2, 3]\n",
        "\n",
        "list1.extend(list2)\n",
        "print(list1)"
      ],
      "metadata": {
        "id": "JEPLHlhXEMo_"
      },
      "execution_count": null,
      "outputs": []
    },
    {
      "cell_type": "markdown",
      "source": [
        "Python - List Methods\n",
        "\n",
        "List Methods\n",
        "\n",
        "Python List reverse() Method"
      ],
      "metadata": {
        "id": "_iNq6qK2EPzg"
      }
    },
    {
      "cell_type": "code",
      "source": [
        "* Reverse the order of the colors list:\n",
        "\n",
        "\n",
        "shapess = [\"square\", \"circle\", \"triangle\"]\n",
        "\n",
        "shapess.reverse()\n",
        "\n",
        "print(shapes"
      ],
      "metadata": {
        "id": "vLUJrFWaEUEW"
      },
      "execution_count": null,
      "outputs": []
    },
    {
      "cell_type": "markdown",
      "source": [
        "Definition and Usage\n",
        "The reverse() method reverses the sorting order of the elements.\n",
        "\n",
        "Syntax\n",
        "list.reverse()\n",
        "Parameter Values\n",
        "No parameters\n",
        "Related Pages\n",
        "The buil-in function reversed() returns a reversed iterator object.\n",
        "Official The Python Tutorial » 5. Data Structures\n",
        "list.count(x)Method:Return the number of times x appears in the list."
      ],
      "metadata": {
        "id": "a9TyENNnEXbi"
      }
    }
  ]
}