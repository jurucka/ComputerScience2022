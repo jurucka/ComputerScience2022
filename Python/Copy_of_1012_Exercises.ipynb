{
  "nbformat": 4,
  "nbformat_minor": 0,
  "metadata": {
    "colab": {
      "provenance": []
    },
    "kernelspec": {
      "name": "python3",
      "display_name": "Python 3"
    },
    "language_info": {
      "name": "python"
    }
  },
  "cells": [
    {
      "cell_type": "markdown",
      "source": [
        "Exercise 1: Remove element from the list"
      ],
      "metadata": {
        "id": "OyFZ5iZPEW3_"
      }
    },
    {
      "cell_type": "code",
      "source": [
        "# snacks list\n",
        "snacks = ['Turon', 'Banana Cue', 'Puto', 'Taho']\n",
        "\n",
        "# 'Puto' is removed\n",
        "snacks.remove('Puto')\n",
        "\n",
        "\n",
        "# Updated snacks List\n",
        "print('Updated snacks list: ', snacks)"
      ],
      "metadata": {
        "colab": {
          "base_uri": "https://localhost:8080/"
        },
        "id": "u2jYMHI8Ec53",
        "outputId": "297392a0-42ea-4404-a0f4-d6b56a23547c"
      },
      "execution_count": null,
      "outputs": [
        {
          "output_type": "stream",
          "name": "stdout",
          "text": [
            "Updated snacks list:  ['Turon', 'Banana Cue', 'Taho']\n"
          ]
        }
      ]
    },
    {
      "cell_type": "markdown",
      "source": [
        "Exercise 2: remove() method on a list having duplicate elements"
      ],
      "metadata": {
        "id": "v3YkHTV5EjvK"
      }
    },
    {
      "cell_type": "code",
      "source": [
        "# snacks list\n",
        "snacks = ['Turon', 'Banana Cue', 'Banana Cue', 'Puto', 'Banana Cue']\n",
        "\n",
        "# 'Banana Cue' is removed\n",
        "snacks.remove('Banana Cue')\n",
        "\n",
        "\n",
        "# Updated snacks list\n",
        "print('Updated snacks list: ', snacks)"
      ],
      "metadata": {
        "colab": {
          "base_uri": "https://localhost:8080/"
        },
        "id": "8BnUoS2vEmO8",
        "outputId": "f4c3219e-174a-4af2-c701-bda9e51ebc9d"
      },
      "execution_count": null,
      "outputs": [
        {
          "output_type": "stream",
          "name": "stdout",
          "text": [
            "Updated snacks list:  ['Turon', 'Banana Cue', 'Puto', 'Banana Cue']\n"
          ]
        }
      ]
    },
    {
      "cell_type": "markdown",
      "source": [
        "Exercise 3: Deleting element that doesn't exist"
      ],
      "metadata": {
        "id": "yRQNJ6bjEtXt"
      }
    },
    {
      "cell_type": "code",
      "source": [
        "# snacks list\n",
        "snacks =['Turon', 'Banana Cue', 'Puto', 'Taho']\n",
        "\n",
        "# Deleting 'Suman' element\n",
        "snacks.remove('Suman')\n",
        "\n",
        "# Updated snacks list\n",
        "print('Updated snacks list: ', snacks)"
      ],
      "metadata": {
        "colab": {
          "base_uri": "https://localhost:8080/",
          "height": 235
        },
        "id": "HJOIXNvfEviu",
        "outputId": "7e4803db-25d5-488a-ba8b-52304d07bb6b"
      },
      "execution_count": null,
      "outputs": [
        {
          "output_type": "error",
          "ename": "ValueError",
          "evalue": "ignored",
          "traceback": [
            "\u001b[0;31m---------------------------------------------------------------------------\u001b[0m",
            "\u001b[0;31mValueError\u001b[0m                                Traceback (most recent call last)",
            "\u001b[0;32m<ipython-input-3-1ad45b06553a>\u001b[0m in \u001b[0;36m<module>\u001b[0;34m\u001b[0m\n\u001b[1;32m      3\u001b[0m \u001b[0;34m\u001b[0m\u001b[0m\n\u001b[1;32m      4\u001b[0m \u001b[0;31m# Deleting 'Suman' element\u001b[0m\u001b[0;34m\u001b[0m\u001b[0;34m\u001b[0m\u001b[0;34m\u001b[0m\u001b[0m\n\u001b[0;32m----> 5\u001b[0;31m \u001b[0msnacks\u001b[0m\u001b[0;34m.\u001b[0m\u001b[0mremove\u001b[0m\u001b[0;34m(\u001b[0m\u001b[0;34m'Suman'\u001b[0m\u001b[0;34m)\u001b[0m\u001b[0;34m\u001b[0m\u001b[0;34m\u001b[0m\u001b[0m\n\u001b[0m\u001b[1;32m      6\u001b[0m \u001b[0;34m\u001b[0m\u001b[0m\n\u001b[1;32m      7\u001b[0m \u001b[0;31m# Updated snacks list\u001b[0m\u001b[0;34m\u001b[0m\u001b[0;34m\u001b[0m\u001b[0;34m\u001b[0m\u001b[0m\n",
            "\u001b[0;31mValueError\u001b[0m: list.remove(x): x not in list"
          ]
        }
      ]
    }
  ]
}