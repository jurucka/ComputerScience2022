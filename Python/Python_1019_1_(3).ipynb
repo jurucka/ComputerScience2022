{
  "nbformat": 4,
  "nbformat_minor": 0,
  "metadata": {
    "colab": {
      "provenance": []
    },
    "kernelspec": {
      "name": "python3",
      "display_name": "Python 3"
    },
    "language_info": {
      "name": "python"
    }
  },
  "cells": [
    {
      "cell_type": "markdown",
      "source": [
        "1019 4110E210 Python Conditions and If Statements\n",
        "\n",
        "Exercise 1: Print \"Never Giveup\" if a is greater than b."
      ],
      "metadata": {
        "id": "TdY331KH2Svh"
      }
    },
    {
      "cell_type": "code",
      "source": [
        "a = 19\n",
        "b = 7\n",
        "\n",
        "if a > b:\n",
        "   print(\"Never Giveup\")"
      ],
      "metadata": {
        "colab": {
          "base_uri": "https://localhost:8080/"
        },
        "id": "0TjGfXs82Va_",
        "outputId": "809e5e21-671b-4094-f623-c8d7bc023459"
      },
      "execution_count": 1,
      "outputs": [
        {
          "output_type": "stream",
          "name": "stdout",
          "text": [
            "Never Giveup\n"
          ]
        }
      ]
    },
    {
      "cell_type": "markdown",
      "source": [
        "Exercise 2 : Print \"Never Giveup\" if a is not equal to b."
      ],
      "metadata": {
        "id": "hcC6oJwY2b92"
      }
    },
    {
      "cell_type": "code",
      "source": [
        "a = 72\n",
        "b = 23\n",
        "\n",
        "if a != b :\n",
        "  print(\"Never Giveup\")"
      ],
      "metadata": {
        "colab": {
          "base_uri": "https://localhost:8080/"
        },
        "id": "HCz7cVRI2emi",
        "outputId": "71a82f6d-7ff5-4235-b696-c21d1c6ad9ba"
      },
      "execution_count": 2,
      "outputs": [
        {
          "output_type": "stream",
          "name": "stdout",
          "text": [
            "Never Giveup\n"
          ]
        }
      ]
    },
    {
      "cell_type": "markdown",
      "source": [
        "Exercise 3 : Print \"Yes\" if a is equal to b, otherwise print \"No\"."
      ],
      "metadata": {
        "id": "2Tb2ghtb2iJ8"
      }
    },
    {
      "cell_type": "code",
      "source": [
        "a = 92\n",
        "b = 68\n",
        "\n",
        "if a == b :\n",
        "  print(\"Yes\")\n",
        "else:\n",
        "  print(\"No\")"
      ],
      "metadata": {
        "colab": {
          "base_uri": "https://localhost:8080/"
        },
        "id": "DSPfoKtX2lLJ",
        "outputId": "09f6c70f-6d34-4d7d-f88e-7d722bbd940a"
      },
      "execution_count": 3,
      "outputs": [
        {
          "output_type": "stream",
          "name": "stdout",
          "text": [
            "No\n"
          ]
        }
      ]
    },
    {
      "cell_type": "markdown",
      "source": [
        "Exercise 4 : Print \"3\" if a is equal to b, print \"4\" if a is greater than b, otherwise print \"6\"."
      ],
      "metadata": {
        "id": "gACUFvq52p6W"
      }
    },
    {
      "cell_type": "code",
      "source": [
        "a = 54\n",
        "b = 27\n",
        "\n",
        "if a == b :\n",
        " print(\"3\")\n",
        "elif a > b :\n",
        " print(\"4\")\n",
        "else:\n",
        " print(\"6\")"
      ],
      "metadata": {
        "colab": {
          "base_uri": "https://localhost:8080/"
        },
        "id": "yOnqeC9X2s_N",
        "outputId": "c68d5758-0a1d-436f-ef60-c37e1f9300a3"
      },
      "execution_count": 4,
      "outputs": [
        {
          "output_type": "stream",
          "name": "stdout",
          "text": [
            "4\n"
          ]
        }
      ]
    },
    {
      "cell_type": "markdown",
      "source": [
        "Exercise 5 : Print \"Never Giveup\" if a is equal to b, and c is equal to d."
      ],
      "metadata": {
        "id": "6oF3Ee982wNP"
      }
    },
    {
      "cell_type": "code",
      "source": [
        "if a == b and c == d:\n",
        "\n",
        "  print(\"Never Giveup\")"
      ],
      "metadata": {
        "id": "Y1XTdv5v210P"
      },
      "execution_count": 9,
      "outputs": []
    },
    {
      "cell_type": "markdown",
      "source": [
        "Exercise 6 : Print \"Never Giveup\" if a is equal to b, or if c is equal to d."
      ],
      "metadata": {
        "id": "0wg7xT7x3EXs"
      }
    },
    {
      "cell_type": "code",
      "source": [
        "if a == b or c == d:\n",
        "  print(\"Never Giveup\")"
      ],
      "metadata": {
        "id": "C8l8osGn3U07"
      },
      "execution_count": null,
      "outputs": []
    },
    {
      "cell_type": "markdown",
      "source": [
        "Exercise 7 : This example misses indentations to be correct.\n",
        "\n",
        "Insert the missing indentation to make the code correct:"
      ],
      "metadata": {
        "id": "eK7VTBbR3Ywx"
      }
    },
    {
      "cell_type": "code",
      "source": [
        "if 11 > 8 :\n",
        "  print(\"Eleven is greater than eigth!\")"
      ],
      "metadata": {
        "colab": {
          "base_uri": "https://localhost:8080/"
        },
        "id": "qE5_F3Ay3ZcX",
        "outputId": "007a0cbf-59fe-4d33-9916-55c20b9a21f7"
      },
      "execution_count": 11,
      "outputs": [
        {
          "output_type": "stream",
          "name": "stdout",
          "text": [
            "Eleven is greater than eigth!\n"
          ]
        }
      ]
    },
    {
      "cell_type": "markdown",
      "source": [
        "Exercise 8 : Use the correct short hand syntax to put the following statement on one line:"
      ],
      "metadata": {
        "id": "tsNg-WWs3fsO"
      }
    },
    {
      "cell_type": "code",
      "source": [
        "if 7 > 1: print(\"Seven is greater than One!\")"
      ],
      "metadata": {
        "colab": {
          "base_uri": "https://localhost:8080/"
        },
        "id": "4QvDMi-V3lFv",
        "outputId": "c459acbb-91bf-4938-eafa-47406e8e0bc4"
      },
      "execution_count": 12,
      "outputs": [
        {
          "output_type": "stream",
          "name": "stdout",
          "text": [
            "Seven is greater than One!\n"
          ]
        }
      ]
    },
    {
      "cell_type": "markdown",
      "source": [
        "Exercise 9 : Use the correct short hand syntax to write the following conditional expression in one line:"
      ],
      "metadata": {
        "id": "tS7LtvU-3o6R"
      }
    },
    {
      "cell_type": "code",
      "source": [
        "if 19 > 17:\n",
        "  print(\"Yes\")\n",
        "else:    \n",
        "  print(\"No\")"
      ],
      "metadata": {
        "colab": {
          "base_uri": "https://localhost:8080/"
        },
        "id": "aEQbGDZv3rfW",
        "outputId": "b0a30a76-fad2-4a45-b7c3-4a58997475df"
      },
      "execution_count": 13,
      "outputs": [
        {
          "output_type": "stream",
          "name": "stdout",
          "text": [
            "Yes\n"
          ]
        }
      ]
    }
  ]
}