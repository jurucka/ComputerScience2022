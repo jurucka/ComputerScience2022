{
  "nbformat": 4,
  "nbformat_minor": 0,
  "metadata": {
    "colab": {
      "provenance": []
    },
    "kernelspec": {
      "name": "python3",
      "display_name": "Python 3"
    },
    "language_info": {
      "name": "python"
    }
  },
  "cells": [
    {
      "cell_type": "markdown",
      "source": [
        "**4110E212 尤里卡**"
      ],
      "metadata": {
        "id": "vpkdhvmjc38_"
      }
    },
    {
      "cell_type": "markdown",
      "source": [
        "**1.**"
      ],
      "metadata": {
        "id": "S4kFjF5EdRrE"
      }
    },
    {
      "cell_type": "code",
      "source": [
        "What can Python do?\n",
        "(A)Python can be used on a server to create web applications.\n",
        "(B)Python can be used alongside software to create workflows.\n",
        "(C)Python can connect to database systems. It can also read and modify files.\n",
        "(D)Python can be used to handle big data and perform complex mathematics."
      ],
      "metadata": {
        "id": "B22zrFKpdTN3"
      },
      "execution_count": null,
      "outputs": []
    },
    {
      "cell_type": "markdown",
      "source": [
        "-answer: (ABCD) https://www.w3schools.com/python/python_intro.asp"
      ],
      "metadata": {
        "id": "HLsYAV1pdYjl"
      }
    },
    {
      "cell_type": "code",
      "source": [
        "What can Python do?\n",
        "Python can be used on a server to create web applications.\n",
        "Python can be used alongside software to create workflows.\n",
        "Python can connect to database systems. It can also read and modify files.\n",
        "Python can be used to handle big data and perform complex mathematics.\n",
        "Python can be used for rapid prototyping, or for production-ready software development."
      ],
      "metadata": {
        "id": "2EmPoLW1db9G"
      },
      "execution_count": null,
      "outputs": []
    },
    {
      "cell_type": "markdown",
      "source": [
        "**2.**"
      ],
      "metadata": {
        "id": "vhqc3hPZdgRt"
      }
    },
    {
      "cell_type": "code",
      "source": [
        "Python uses __________ to indicate a block of code\n",
        "(A) [] (B){}  (C) ()  (D) indentation"
      ],
      "metadata": {
        "id": "4z6EJpAwdkRP"
      },
      "execution_count": null,
      "outputs": []
    },
    {
      "cell_type": "markdown",
      "source": [
        "answer: (D) Indentation https://www.w3schools.com/python/python_syntax.asp"
      ],
      "metadata": {
        "id": "ky8jCXiDdnV1"
      }
    },
    {
      "cell_type": "code",
      "source": [
        "Python uses indentation to indicate a block of code."
      ],
      "metadata": {
        "id": "XqLs9gALdqSQ"
      },
      "execution_count": null,
      "outputs": []
    },
    {
      "cell_type": "markdown",
      "source": [
        "**3.**\n"
      ],
      "metadata": {
        "id": "nsHNoC6lduoK"
      }
    },
    {
      "cell_type": "code",
      "source": [
        "Python has commenting capability for the purpose of in-code documentation. Comments start with a  __________\n",
        "(A)A  (B) # (C) /  (D)&"
      ],
      "metadata": {
        "id": "QwvKBKH0dyZW"
      },
      "execution_count": null,
      "outputs": []
    },
    {
      "cell_type": "markdown",
      "source": [
        "answer: (B) # https://www.w3schools.com/python/python_comments.asp Comments starts with a #, and Python will ignore them."
      ],
      "metadata": {
        "id": "4i-sOo2dd2KZ"
      }
    },
    {
      "cell_type": "markdown",
      "source": [
        "**4.**"
      ],
      "metadata": {
        "id": "eU5hLYbsd5g4"
      }
    },
    {
      "cell_type": "code",
      "source": [
        "Unpack a Collection:\n",
        "If you have a collection of values in a list, tuple etc. Python allows you to extract the values into variables. \n",
        "fruits = [\"apple\", \"banana\", \"cherry\"]\n",
        "x, y, z = fruits\n",
        "print(x)\n",
        "What is the output of this code in Python?\n",
        "(A) apple  (B) banana (C) cherry  \n",
        "(D) [\"apple\", \"banana\", \"cherry\"]"
      ],
      "metadata": {
        "id": "5cxKU6eZd-xC"
      },
      "execution_count": null,
      "outputs": []
    },
    {
      "cell_type": "markdown",
      "source": [
        "answer: (A) apple https://colab.research.google.com/drive/18usjdXx0ZaRxJkfCNaxot44_jnzkph16#scrollTo=rPmUh4i2Ko5-"
      ],
      "metadata": {
        "id": "nFbeV9WEeCw_"
      }
    },
    {
      "cell_type": "markdown",
      "source": [
        "**5.**"
      ],
      "metadata": {
        "id": "nyvW4tbueF9q"
      }
    },
    {
      "cell_type": "code",
      "source": [
        "Which following is the correct way to create a dictionary in Python?\n",
        "   (A) students = { 'name' => 'alice' ;  'score' =>60 }\n",
        "   (B) students = { 'name' = 'alice' ;  'score' =60 }\n",
        "   (C) students = { 'name' : 'alice' ;  'score' : 60 }\n",
        "   (D) students = { 'name' => 'alice' ,  'score' =>60 }\n",
        "   (E) students = { 'name' : 'alice' , 'score' : 60 }"
      ],
      "metadata": {
        "id": "5pPJt7FveIlb"
      },
      "execution_count": null,
      "outputs": []
    },
    {
      "cell_type": "markdown",
      "source": [
        "answer: (E) students = { 'name' : 'alice' , 'score' : 60 }"
      ],
      "metadata": {
        "id": "PpBpoUzreM7I"
      }
    },
    {
      "cell_type": "markdown",
      "source": [
        "**6.**"
      ],
      "metadata": {
        "id": "lf8jjomMeQxL"
      }
    },
    {
      "cell_type": "code",
      "source": [
        "What is the output of this code in Python?\n",
        "\n",
        "x = 5\n",
        "y = \"John\"\n",
        "print(x + y) \n",
        "\n",
        "(A)\t5 John  (B) 5 + John  (C) John (D) Python will give you an error"
      ],
      "metadata": {
        "id": "Q9Udfjz2eWYr"
      },
      "execution_count": null,
      "outputs": []
    },
    {
      "cell_type": "markdown",
      "source": [
        "answer: (A) 5 John"
      ],
      "metadata": {
        "id": "BbgSp_MieasS"
      }
    },
    {
      "cell_type": "markdown",
      "source": [
        "**7.**"
      ],
      "metadata": {
        "id": "YwwoaM3uegua"
      }
    },
    {
      "cell_type": "markdown",
      "source": [
        "Which one of the following outputs is wrong? (A)13//5 output: 2.6 (B) 13/5 output: 2.6 (C)13%5 output:3\n",
        "(D)y = int(2.8) output:2"
      ],
      "metadata": {
        "id": "hKAAgJieevfP"
      }
    },
    {
      "cell_type": "code",
      "source": [
        "- answer: (A)13//5  output: 2.6 "
      ],
      "metadata": {
        "id": "Topxb3Vvewn7"
      },
      "execution_count": null,
      "outputs": []
    },
    {
      "cell_type": "markdown",
      "source": [
        "**8.**"
      ],
      "metadata": {
        "id": "noJ3c4wMe1WF"
      }
    },
    {
      "cell_type": "code",
      "source": [
        "What does the following Python program fragment do?\n",
        "   s=0\n",
        "   for i in range (3 , 11) :\n",
        "        s+=i\n",
        "   print (s)\n",
        "   (A) Calculate the sum of 1+2+…+10\n",
        "   (B) Calculate the sum of 1+4+7+10\n",
        "   (C) Calculate the sum of 3+4+5+6+…+9\n",
        "   (D) Calculate the sum of 3+4+5+6+…+10\n",
        "   (E) Calculate the sum of 0+2+4+6+…+10"
      ],
      "metadata": {
        "id": "5yfkBTzLe70n"
      },
      "execution_count": null,
      "outputs": []
    },
    {
      "cell_type": "markdown",
      "source": [
        "answer: (D) Calculate the sum of 3+4+5+6+…+10\n"
      ],
      "metadata": {
        "id": "6gkObUJYfABz"
      }
    },
    {
      "cell_type": "code",
      "source": [
        "Output: 52 "
      ],
      "metadata": {
        "id": "TMPISRAbfDT8"
      },
      "execution_count": null,
      "outputs": []
    },
    {
      "cell_type": "markdown",
      "source": [
        "**9.**"
      ],
      "metadata": {
        "id": "jgxlNxiifFih"
      }
    },
    {
      "cell_type": "code",
      "source": [
        "What is the output of this code in Python?\n",
        "\n",
        "a = \"Hello, World!\"\n",
        "print(a[2:5]+ a[3:8]) \n",
        "\n",
        "(A)  W llolo,\n",
        "(B)  llolo,Wo\n",
        "(C)  llolo, W\n",
        "(D)  llolo,Wor"
      ],
      "metadata": {
        "id": "PFzCwvTKfJPR"
      },
      "execution_count": null,
      "outputs": []
    },
    {
      "cell_type": "markdown",
      "source": [
        "answer: (B) llolo,Wo"
      ],
      "metadata": {
        "id": "VLiXTIPZfNnV"
      }
    },
    {
      "cell_type": "markdown",
      "source": [
        "**10.**"
      ],
      "metadata": {
        "id": "YGU0Lz9bfRv2"
      }
    },
    {
      "cell_type": "code",
      "source": [
        "Which function can returns the length of a string?\n",
        "a = \"Hello, Pythonian!\"\n",
        "print(_________)\n",
        "(A) len(a)  (B) length(a)   (C) count(a)  (D)  num(a)"
      ],
      "metadata": {
        "id": "3J4GYiazfY8I"
      },
      "execution_count": null,
      "outputs": []
    },
    {
      "cell_type": "markdown",
      "source": [
        "answer: (A) len(a)"
      ],
      "metadata": {
        "id": "cQ3Cuid8fbjK"
      }
    },
    {
      "cell_type": "markdown",
      "source": [
        "**11.**"
      ],
      "metadata": {
        "id": "fmVkH2MyfgAM"
      }
    },
    {
      "cell_type": "code",
      "source": [
        "What is the output of this code in Python?\n",
        "      list = [ ' a ' ,  ' b ' ,  ' c ' ,  ' d ' ,  ' e ' ]\n",
        "      print (list [ 1 : ])\n",
        "   (A) [ ]\n",
        "   (B) [ 'b' ]\n",
        "   (C) [ 'a' ,  'b' ]\n",
        "   (D) [ 'b' ,  'c' ,  'd' ,  'e' ]"
      ],
      "metadata": {
        "id": "1qh4kDCDfjKL"
      },
      "execution_count": null,
      "outputs": []
    },
    {
      "cell_type": "markdown",
      "source": [
        "answer: (D) [ 'b' , 'c' , 'd' , 'e' ] "
      ],
      "metadata": {
        "id": "QJk34EwNfnCe"
      }
    },
    {
      "cell_type": "markdown",
      "source": [
        "**12.**\n"
      ],
      "metadata": {
        "id": "adcbpxRyf5nK"
      }
    },
    {
      "cell_type": "code",
      "source": [
        "What is the output of this code in Python?\n",
        "        L1 = [ ]\n",
        "        L1.append ( [1, [2, 3], 4] )\n",
        "        L1.extend ( [7, 8, 9] )\n",
        "        print(L1[0][1][1] + L1[2] )\n",
        "   (A) 3  (B) 8  (C) 11  (D) 38  (E) None of these"
      ],
      "metadata": {
        "id": "XW9SwJWWf9Zb"
      },
      "execution_count": null,
      "outputs": []
    },
    {
      "cell_type": "markdown",
      "source": [
        "answer: (C) 11"
      ],
      "metadata": {
        "id": "l6HLm2LLgATo"
      }
    },
    {
      "cell_type": "markdown",
      "source": [
        "**13.**\n"
      ],
      "metadata": {
        "id": "dfpEhCRTgDtk"
      }
    },
    {
      "cell_type": "code",
      "source": [
        "Check if \"free\" is present in the following text:\n",
        "\n",
        "txt = \"The best things in life are free!\"\n",
        "print(\"free\" ______ txt)\n",
        "\n",
        "Which is the correct answer?\n",
        "(A) on (B) with (C) at  (D) in"
      ],
      "metadata": {
        "id": "4cik0BgugJJ5"
      },
      "execution_count": null,
      "outputs": []
    },
    {
      "cell_type": "markdown",
      "source": [
        "answer: (D) in"
      ],
      "metadata": {
        "id": "yF4LRuqMgMqF"
      }
    },
    {
      "cell_type": "markdown",
      "source": [
        "**14.**"
      ],
      "metadata": {
        "id": "3HL2elP2gT8O"
      }
    },
    {
      "cell_type": "code",
      "source": [
        "Which of the following conditions correctly describes the output of this code in  Python?\n",
        "         first = [1 , 2 , 3 , 4 , 5]\n",
        "         second = first\n",
        "         second.append (6)\n",
        "         print (first)\n",
        "         print (second)\n",
        "   (A) first=[1, 2, 3, 4, 5], second=[1, 2, 3, 4, 5, 6]\n",
        "   (B) first=[1, 2, 3, 4, 5, 6], second=[1, 2, 3, 4, 5]\n",
        "   (C) first=[1, 2, 3, 4, 5], second=[1, 2, 3, 4, 5]\n",
        "   (D) first=[1, 2, 3, 4, 5, 6], second=[1, 2, 3, 4, 5, 6]\n",
        "   (E) None of these"
      ],
      "metadata": {
        "id": "Jyog-ImmgZQ1"
      },
      "execution_count": null,
      "outputs": []
    },
    {
      "cell_type": "markdown",
      "source": [
        "answer: (D) first=[1, 2, 3, 4, 5, 6], second=[1, 2, 3, 4, 5, 6]"
      ],
      "metadata": {
        "id": "PxzdQusHgdGC"
      }
    },
    {
      "cell_type": "markdown",
      "source": [
        "**15.**"
      ],
      "metadata": {
        "id": "8q-nLvCzggXx"
      }
    },
    {
      "cell_type": "code",
      "source": [
        "Python has a set of built-in methods that you can use on strings. \n",
        "Which method can converts string into lower case ?\n",
        "(A)capitalize()     (B) casefold()     (C) lower()  \n",
        "(D)expandtabs()"
      ],
      "metadata": {
        "id": "AgbioZv-giOS"
      },
      "execution_count": null,
      "outputs": []
    },
    {
      "cell_type": "markdown",
      "source": [
        "answer: (C) lower() https://www.w3schools.com/python/python_strings_modify.asp"
      ],
      "metadata": {
        "id": "aPHx88Y9gk4_"
      }
    },
    {
      "cell_type": "markdown",
      "source": [
        "**16.**"
      ],
      "metadata": {
        "id": "wuxrxwPvgni8"
      }
    },
    {
      "cell_type": "code",
      "source": [
        "Python Booleans\n",
        "Which one of the following statements is wrong?\n",
        "(A) Booleans represent one of two values: True or False. \n",
        "(B) The bool() function allows you to evaluate any value, and give you True or False in return, \n",
        "(C) print(10 > 9) will output True  \n",
        "(D) print(10 = 9) will output True"
      ],
      "metadata": {
        "id": "_oOTrSfhg8CL"
      },
      "execution_count": null,
      "outputs": []
    },
    {
      "cell_type": "markdown",
      "source": [
        "-answer: (D) print(10 = 9) will output True https://www.w3schools.com/python/python_booleans.asp"
      ],
      "metadata": {
        "id": "5bqrn9GQg-z9"
      }
    },
    {
      "cell_type": "markdown",
      "source": [
        "**17.**"
      ],
      "metadata": {
        "id": "kvpFFMUrhBTQ"
      }
    },
    {
      "cell_type": "code",
      "source": [
        "Python Lists \n",
        "Which of the following statements is wrong?\n",
        "(A) Lists are used to store multiple items in a single variable.\n",
        "(B) Lists are created using square brackets \n",
        "(C) List items are ordered, changeable, and allow duplicate values. \n",
        "(D) Lists can not have items with the same value"
      ],
      "metadata": {
        "id": "BytcSWWuhEjW"
      },
      "execution_count": null,
      "outputs": []
    },
    {
      "cell_type": "markdown",
      "source": [
        "answer: (D) Lists can not have items with the same value https://www.w3schools.com/python/python_lists.asp"
      ],
      "metadata": {
        "id": "c-DYkkTRhHAv"
      }
    },
    {
      "cell_type": "markdown",
      "source": [
        "**18.**"
      ],
      "metadata": {
        "id": "BI_iVVgMhJjX"
      }
    },
    {
      "cell_type": "code",
      "source": [
        "Which one of the codes will output\n",
        "['apple', 'orange', 'banana', 'cherry']  ?\n",
        "\n",
        "mylist = [\"apple\", \"banana\", \"cherry\"]\n",
        "_____________________\n",
        "print(mylist)\n",
        "\n",
        "(A)mylist.append(\"orange\")\n",
        "(B)mylist.insert(0, \"orange\")\n",
        "(C)mylist.insert(1, \"orange\")   \n",
        "(D)mylist.insert(2, \"orange\")"
      ],
      "metadata": {
        "id": "kRHVAhJXhN1y"
      },
      "execution_count": null,
      "outputs": []
    },
    {
      "cell_type": "markdown",
      "source": [
        "-answer: (C)mylist.insert(1, \"orange\")"
      ],
      "metadata": {
        "id": "D2t-szfvhSZh"
      }
    },
    {
      "cell_type": "markdown",
      "source": [
        "**19.**"
      ],
      "metadata": {
        "id": "p8wNVAK8hWKG"
      }
    },
    {
      "cell_type": "code",
      "source": [
        "Python has a set of built-in methods that you can use on dictionaries. Which statements are correct ?\n",
        "(A) clear() will removes all the elements from the dictionary\n",
        "(B) copy() will returns a copy of the dictionary \n",
        "(C) items() will returns a list containing a tuple for each key value pair  \n",
        "(D) popitem()\twill removes the last inserted key-value pair"
      ],
      "metadata": {
        "id": "9naUO5x_hX1l"
      },
      "execution_count": null,
      "outputs": []
    },
    {
      "cell_type": "markdown",
      "source": [
        "answer: https://www.w3schools.com/python/python_dictionaries.asp (C) items() will returns a list containing a tuple for each key value pair"
      ],
      "metadata": {
        "id": "spJj1SaghaQe"
      }
    },
    {
      "cell_type": "markdown",
      "source": [
        "**20.**"
      ],
      "metadata": {
        "id": "dn6lIhujhdFV"
      }
    },
    {
      "cell_type": "code",
      "source": [
        "Python supports the usual logical conditions from mathematics:\n",
        "Which statements are correct ?\n",
        "(A)Equals: a = b\n",
        "(B)Not Equals: a != b\n",
        "(C)Less than or equal to: a <= b\n",
        "(D)Greater than: a > b"
      ],
      "metadata": {
        "id": "L-0P4R48he0j"
      },
      "execution_count": null,
      "outputs": []
    },
    {
      "cell_type": "markdown",
      "source": [
        "-answer: (BCD) https://www.w3schools.com/python/python_operators.asp"
      ],
      "metadata": {
        "id": "dOo2EX1qhhSq"
      }
    },
    {
      "cell_type": "markdown",
      "source": [
        "**21.**"
      ],
      "metadata": {
        "id": "BOrYDOgChjY-"
      }
    },
    {
      "cell_type": "code",
      "source": [
        "What is the output of this code in Python?\n",
        "\n",
        "i = 1\n",
        "while i < 6:\n",
        "  print(i)\n",
        "  if (i == 3):\n",
        "    break\n",
        "  i += 1"
      ],
      "metadata": {
        "id": "GmQ1gMsGhk6T"
      },
      "execution_count": null,
      "outputs": []
    },
    {
      "cell_type": "markdown",
      "source": [
        "answer: (A) 1 2 3"
      ],
      "metadata": {
        "id": "2FGGoRoghnRn"
      }
    },
    {
      "cell_type": "markdown",
      "source": [
        "**22.**"
      ],
      "metadata": {
        "id": "w7bQInSChpmX"
      }
    },
    {
      "cell_type": "code",
      "source": [
        "What is the output of this code in Python?\n",
        "i = 0\n",
        "while i < 6:\n",
        "  i += 1\n",
        "  if i == 3:\n",
        "    continue\n",
        "  print(i)"
      ],
      "metadata": {
        "id": "H1_-og1YhrMg"
      },
      "execution_count": null,
      "outputs": []
    },
    {
      "cell_type": "markdown",
      "source": [
        "answer: (C) 1 2 3 4 5 6"
      ],
      "metadata": {
        "id": "pej1QX2mhtOt"
      }
    },
    {
      "cell_type": "markdown",
      "source": [
        "**23.**"
      ],
      "metadata": {
        "id": "dyJsJTl9hvmg"
      }
    },
    {
      "cell_type": "code",
      "source": [
        "If the function \n",
        "int volume (int x = 1, int y = 1, int z = 1); \n",
        "is called by the expression volume (7,8), how many default arguments are used?\n",
        "(A) None  (B) One  (C) Two  (D) Three\n",
        "(E) It depends on the runtime environment."
      ],
      "metadata": {
        "id": "aSP2JzE3hxm0"
      },
      "execution_count": null,
      "outputs": []
    },
    {
      "cell_type": "markdown",
      "source": [
        "answer: (C) Two https://www.w3schools.com/python/python_functions.asp"
      ],
      "metadata": {
        "id": "p7B5ZdR-hz2I"
      }
    },
    {
      "cell_type": "markdown",
      "source": [
        "**24.**"
      ],
      "metadata": {
        "id": "hVEYfxQ_h2nm"
      }
    },
    {
      "cell_type": "code",
      "source": [
        "What is the output of this code in python?\n",
        "        r = lambda q: q * 2\n",
        "        s = lambda q: q * 3\n",
        "        x = 2\n",
        "        x = r (x)\n",
        "        x = s (x)\n",
        "        x = r (x)\n",
        "        print (x)\n",
        "   (A) 2  (B) 4  (C) 6  (D) 12  (E) 24"
      ],
      "metadata": {
        "id": "1VnGPo9Ch4iz"
      },
      "execution_count": null,
      "outputs": []
    },
    {
      "cell_type": "markdown",
      "source": [
        "answer: (E) 24"
      ],
      "metadata": {
        "id": "OogIVK9Uh607"
      }
    },
    {
      "cell_type": "markdown",
      "source": [
        "**25.**"
      ],
      "metadata": {
        "id": "Ze3WZ7Q0h9sX"
      }
    },
    {
      "cell_type": "code",
      "source": [
        "A recursive function is defined as below:\n",
        "def tri_recursion(k):\n",
        "  if(k > 0):\n",
        "    result = k + tri_recursion(k - 1)\n",
        "    print(result)\n",
        "  else:\n",
        "    result = 0\n",
        "  return result\n",
        "\n",
        "What Is The Last Line Of The Output When tri_recursion(6) is executed? \n",
        "   (A) 6  (B) 10  (C) 15  (D) 21  (E) 28"
      ],
      "metadata": {
        "id": "LzwKZxZ1h_Ml"
      },
      "execution_count": null,
      "outputs": []
    },
    {
      "cell_type": "markdown",
      "source": [
        "answer: (D) 21"
      ],
      "metadata": {
        "id": "ByFcbojuiBjs"
      }
    }
  ]
}